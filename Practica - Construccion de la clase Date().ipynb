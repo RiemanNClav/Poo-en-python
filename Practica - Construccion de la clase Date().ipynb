{
 "cells": [
  {
   "cell_type": "markdown",
   "metadata": {},
   "source": [
    "\n",
    "A lo largo de toda esta taraea vas a construir la clase Date. \n",
    "* Empieza con el constructor, que recibe por parámetros el día (day), mes (month) y año (year). Los 3 parámetros son de tipo int y por defecto todos valen 1.\n",
    "\n",
    "* Configura el método .__str__() para que muestre la fecha en formato day / month / year. Si el valor del día o el mes son menores a 10, mostrar el valor con un 0 delante. Por ejemplo, si day = 8, month = 7 y year = 1998, entonces se debería mostrar 08 / 07 / 1998.En el caso del año, si el año es menor a 1000, mostrar con un cero delante; si es menor a 100, mostrar con 2 ceros delante; y si es menor a 10, mostrar con 3 ceros delante. PISTA: Puedes crear una función que dado un número entero y el número de cifras que debe tener, rellene con ceros a la izquierda hasta completar el número de cifras indicado.\n",
    "\n",
    "* Implementa el método de instancia .isLeap() que diga si el año es bisiesto o no.\n",
    "* Implementa un método de instancia .totalMonthDays() que diga el número de días del mes. Ten en cuenta que en los años bisiestos, Febrero tiene 29 días.\n",
    "* Implementa el método de instancia .validDate() que determine si una fecha es válida. Modifica el constructor para que si la fecha introducida no es válida, devuelva un mensaje indicando “¡¡¡La fecha introducida no es una fecha válida!!!”. \n",
    "* Implementa la propiedad .monthName que devuelva el nombre del mes en inglés. Por ejemplo, si nuestra fecha es day = 8, month = 7 y year = 1998, la propiedad debe devolver July.\n",
    "* Implementa el método estático .isPrevious(), que dadas dos fechas diga si la primera es anterior a la segunda.\n",
    "* Implementa el método de clase .firstDayOfTheYear() que dado un año cree un objeto Date con la fecha correspondiente al primer día del año indicado.\n",
    "* Implementa el método de clase .lastDayOfTheYear() que dado un año cree un objeto Date con la fecha correspondiente al último día del año indicado.\n",
    "* Implementa el método de instancia .plusDay() que incremente un día la fecha. Ten en cuenta que si estamos en el último día del mes y añadimos un día, tendremos que cambiar de mes (pasar al siguiente). Y lo mismo si estamos en el último día del año (tendremos que pasar al siguiente año). \n",
    "* Implementa el método de instancia .minusDay() que decremente un día la fecha. Ten en cuenta que si estamos en el primer día del mes y restamos un día, tendremos que cambiar de mes (pasar al anterior). Y lo mismo si estamos en el primer día del año (tendremos que pasar al año anterior).\n",
    "*  Implementa el método de clase .copy() que dado un objeto Date, devuelva otro objeto Date con los mismos atributos.\n",
    "* Implementea el método estático .difference() que dadas dos fechas devuelva el número de días que hay entre ellas.\n",
    "* Implementa el método de clase .randomDate() que cree una fecha aleatoria válida.\n",
    "* Implementa el método de clase .toDate() que dado un string con el formato \"01 January 0001\" devuelva el objeto fecha correspondiente a day = 1, month = 1, year = 1. Por ejemplo, si se pasa por parámetro 05 July 1985, el método debería devolver el objeto Date con los atributos day = 5, month = 7, year = 1985.\n",
    "\n",
    "\n"
   ]
  },
  {
   "cell_type": "code",
   "execution_count": 1,
   "metadata": {},
   "outputs": [],
   "source": [
    "Mes = [\"Enero\" ,\"Febrero\" ,\"Marzo\" ,\"Abril\" ,\"Mayo\" ,\"Junio\" ,\n",
    "           \"Julio\",\"Agosto\",\"Septiembre\",\"Octubre\",\"Noviembre\",\"Diciembre\"]\n",
    "Num_Mes = [1,2,3,4,5,6,7,8,9,10,11,12]\n",
    "    \n",
    "def D_M(dias):\n",
    "    if dias < 10:\n",
    "        concat = \"\".join(['0',str(dias)])\n",
    "        return concat\n",
    "    else:\n",
    "        return str(dias)\n",
    "\n",
    "def A(year):\n",
    "    if year < 10:\n",
    "        concat = \"\".join(['0','0','0',str(year)])\n",
    "    elif year < 100:\n",
    "        concat = \"\".join(['0','0',str(year)])\n",
    "    elif year < 1000:\n",
    "        concat = \"\".join(['0', str(year)])\n",
    "    else:\n",
    "        concat = str(year)\n",
    "    return concat\n",
    "\n",
    "def bisiesto(x):\n",
    "    if x % 4 == 0:\n",
    "        if x % 100 == 0:\n",
    "            if x % 400 == 0:\n",
    "                return 1\n",
    "            else:\n",
    "                return 0\n",
    "        else:\n",
    "            return 1\n",
    "    else:\n",
    "        return 0\n",
    "\n",
    "def MonthDays(month,year):\n",
    "    if month in [4, 6, 9, 11]:\n",
    "        return 30\n",
    "    if month == 2:\n",
    "        if bisiesto(year) == 1:\n",
    "            return 29\n",
    "        else:\n",
    "            return 28\n",
    "    else:\n",
    "        return 31\n",
    "        \n",
    "def Dicc_Mes(mes):\n",
    "    dicc = {}\n",
    "    for i in range(len(Num_Mes)):\n",
    "        dicc[Num_Mes[i]] = Mes[i]\n",
    "        \n",
    "    return dicc[mes]\n",
    "\n",
    "def Dicc_M(mes):\n",
    "    dicc = {}\n",
    "    for i in range(len(Mes)):\n",
    "        dicc[Mes[i]] = Num_Mes[i]\n",
    "        \n",
    "    return dicc[mes]\n",
    "\n",
    "def plusday(day):\n",
    "    if day == 30 or day == 31 or day == 29 or day == 28:\n",
    "        day = 1 \n",
    "    elif day < 31:\n",
    "        day += 1 \n",
    "    return day\n",
    "\n",
    "def plusdate(day,month,year):\n",
    "    if plusday(day) == 1:\n",
    "        if month == 12:\n",
    "            year += 1\n",
    "            month = 1\n",
    "        else:\n",
    "            month += 1\n",
    "        day = 1\n",
    "        \n",
    "    else:\n",
    "        day += 1\n",
    "\n",
    "    l = [day,month,year]\n",
    "    return l\n",
    "\n",
    "\n",
    "def restday(day,month,year):\n",
    "    if day == 1:\n",
    "        if month in [4,6,9,11]:\n",
    "            day = 30\n",
    "        if month == 2:\n",
    "            if bisiesto(year) == 1:\n",
    "                day = 29\n",
    "            else:\n",
    "                day = 28\n",
    "        else:\n",
    "            day = 31\n",
    "    else:\n",
    "        day -= 1\n",
    "        \n",
    "    return day \n",
    "\n",
    "def restdate(day,month,year):\n",
    "    if month == 1:\n",
    "        if day == 1:\n",
    "            day = 31\n",
    "            month = 12\n",
    "            year -= 1\n",
    "        else:\n",
    "            day -= 1\n",
    "    else:\n",
    "        if day == 1:\n",
    "            day = restday(day,month,year)\n",
    "            month  -= 1\n",
    "        else:\n",
    "            day -= 1\n",
    "    l = [day,month,year]\n",
    "    \n",
    "    return l\n",
    "    \n",
    "def todate(string):\n",
    "    s = string\n",
    "    first = s.find(\" \")\n",
    "    day = s[:2]\n",
    "    second = s.find(\" \",first+1)\n",
    "    month = s[first+1:second]\n",
    "    month = Dicc_M(month)\n",
    "    year = s[second+1:]\n",
    "    l = [day,month,year]\n",
    "    return l\n",
    "\n",
    "\n",
    "class Date():\n",
    "    \n",
    "    def __init__(self, dia = 1, mes = 1, year = 1):\n",
    "        if type(dia) is int and type(mes) is int and type(year) is int:\n",
    "            self.d = dia\n",
    "            self.m = mes\n",
    "            self.y = year\n",
    "        else:\n",
    "            print(\"Todos los dias, meses y años deben ser numeros enteros.\")\n",
    "            \n",
    "\n",
    "    def __str__(self):\n",
    "        return \"{} / {} / {}\".format(D_M(self.d),D_M(self.m),A(self.y))\n",
    "\n",
    "    @property \n",
    "    def isLeap(self):\n",
    "        if bisiesto(self.y) == 1:\n",
    "            return \"El año {} es bisiesto\".format(self.y)\n",
    "        else:\n",
    "            return \"El año {} no es bisiesto\".format(self.y)\n",
    "        \n",
    "    @property \n",
    "    def totalMonthDays(self):\n",
    "        return \"El mes tiene {} dias.\".format(MonthDays(self.m, self.y))\n",
    "    @property \n",
    "    def validDate(self):\n",
    "        if self.y < 0:\n",
    "            raise ValueError(\"La fecha introducida no es válida.\")\n",
    "            \n",
    "    @validDate.setter\n",
    "    def validDate(self,year):\n",
    "        self.year = year\n",
    "        \n",
    "    @property \n",
    "    def monthName(self):\n",
    "        return \"{}.\".format(Dicc_Mes(self.m))\n",
    "    \n",
    "    @staticmethod\n",
    "    def areEqual(date1,date2):\n",
    "        if date1.d == date2.d and date1.m == date2.m and date1.y == date2.y:\n",
    "            return \"Las 2 fechas son iguales.\"\n",
    "        else:\n",
    "            return \"Las fechas son distintas.\"\n",
    "   \n",
    "    @staticmethod \n",
    "    def isLater(date1,date2):\n",
    "        yr = max(date1.y,date2.y)\n",
    "        mnt = max(date1.m, date2.m)\n",
    "        dy = max(date1.d, date2.d)\n",
    "        \n",
    "        if date1.y == yr and date1.m == mnt and date1.d == dy:\n",
    "            return \"La fecha {} / {} / {} es posterior a la otra.\".format(D_M(dy),D_M(mnt),A(yr))\n",
    "        else:\n",
    "            return \"La fecha {} / {} / {} no es posterior a la otra.\".format(D_M(dy),D_M(mnt),A(yr))\n",
    "        \n",
    "    @staticmethod \n",
    "    def isPrevious(date1, date2):\n",
    "        yr = max(date1.y,date2.y)\n",
    "        mnt = max(date1.m, date2.m)\n",
    "        dy = max(date1.d, date2.d)\n",
    "        \n",
    "        if date2.y == yr and date2.m == mnt and date2.d == dy:\n",
    "            return \"La fecha {} / {} / {} es anterior a la otra.\".format(D_M(date1.d),D_M(date1.m),A(date1.y))\n",
    "        else:\n",
    "            return \"La fecha {} / {} / {} no es anterior a la otra.\".format(D_M(date1.d),D_M(date1.m),A(date1.y))\n",
    "        \n",
    "    @classmethod \n",
    "    def firstDayOfTheYear(clase, year):\n",
    "        return clase(1,1,year)\n",
    "    \n",
    "    @classmethod \n",
    "    def lastDayOfTheYear(clase, year):\n",
    "        return clase(31,12,year)\n",
    "    \n",
    "    def plusDay(self):\n",
    "        incremento = plusdate(self.d,self.m,self.y)\n",
    "        return \"La fecha incrementada un dia es: {} / {} / {}.\".format(D_M(incremento[0]),D_M(incremento[1]),A(incremento[2]))\n",
    "    \n",
    "    def minusDay(self):\n",
    "        decremento = restdate(self.d,self.m,self.y)\n",
    "        return \"La fecha decrementada un dia es: {} / {} / {}.\".format(D_M(decremento[0]),D_M(decremento[1]),A(decremento[2]))\n",
    "        \n",
    "    \n",
    "    @classmethod \n",
    "    def copy(clase,day,month,year):\n",
    "        return clase(day,month,year)\n",
    "    \n",
    "    @staticmethod\n",
    "    def difference(fecha1,fecha2):\n",
    "        dify = abs(fecha1.y - fecha2.y)\n",
    "        difm = abs(fecha1.m - fecha2.m)\n",
    "        difd = abs(fecha1.d - fecha2.d)\n",
    "        return \"El numero de días entre las dos fechas es de {}\".format((dify*365) + (difm * 30) + difd)\n",
    "            \n",
    "    @classmethod \n",
    "    def randomDate(clase):\n",
    "        import random \n",
    "        day = random.randrange(1,32)\n",
    "        month = random.randrange(1,13)\n",
    "        year = random.randrange(1,3000)\n",
    "        return clase(day,month,year)\n",
    "    \n",
    "    @classmethod \n",
    "    def toDate(clase,string):\n",
    "        to_date = todate(string)\n",
    "        return clase(int(to_date[0]),to_date[1],int(to_date[2]))\n",
    "        \n",
    "        \n",
    "            \n",
    "        \n",
    "        "
   ]
  },
  {
   "cell_type": "code",
   "execution_count": 4,
   "metadata": {},
   "outputs": [],
   "source": [
    "Fecha1 = Date(8,9,1998)\n",
    "Fecha2 = Date(5,12,2007)\n",
    "Fecha3 = Date(10,9,1998)"
   ]
  },
  {
   "cell_type": "code",
   "execution_count": 5,
   "metadata": {},
   "outputs": [
    {
     "name": "stdout",
     "output_type": "stream",
     "text": [
      "08 / 09 / 1998\n",
      "05 / 12 / 2007\n",
      "10 / 09 / 1998\n"
     ]
    }
   ],
   "source": [
    "print(Fecha1)\n",
    "print(Fecha2)\n",
    "print(Fecha3)"
   ]
  },
  {
   "cell_type": "code",
   "execution_count": 7,
   "metadata": {},
   "outputs": [
    {
     "data": {
      "text/plain": [
       "'El año 1998 no es bisiesto'"
      ]
     },
     "execution_count": 7,
     "metadata": {},
     "output_type": "execute_result"
    }
   ],
   "source": [
    "Fecha1.isLeap"
   ]
  },
  {
   "cell_type": "code",
   "execution_count": 8,
   "metadata": {},
   "outputs": [
    {
     "data": {
      "text/plain": [
       "'El mes tiene 30 dias.'"
      ]
     },
     "execution_count": 8,
     "metadata": {},
     "output_type": "execute_result"
    }
   ],
   "source": [
    "Fecha1.totalMonthDays"
   ]
  },
  {
   "cell_type": "code",
   "execution_count": 9,
   "metadata": {},
   "outputs": [
    {
     "data": {
      "text/plain": [
       "'Septiembre.'"
      ]
     },
     "execution_count": 9,
     "metadata": {},
     "output_type": "execute_result"
    }
   ],
   "source": [
    "Fecha1.monthName"
   ]
  },
  {
   "cell_type": "code",
   "execution_count": 10,
   "metadata": {},
   "outputs": [
    {
     "data": {
      "text/plain": [
       "'Las fechas son distintas.'"
      ]
     },
     "execution_count": 10,
     "metadata": {},
     "output_type": "execute_result"
    }
   ],
   "source": [
    "Date.areEqual(Fecha1,Fecha2)"
   ]
  },
  {
   "cell_type": "code",
   "execution_count": 11,
   "metadata": {},
   "outputs": [
    {
     "data": {
      "text/plain": [
       "'La fecha 08 / 12 / 2007 no es posterior a la otra.'"
      ]
     },
     "execution_count": 11,
     "metadata": {},
     "output_type": "execute_result"
    }
   ],
   "source": [
    "Date.isLater(Fecha1,Fecha2)"
   ]
  },
  {
   "cell_type": "code",
   "execution_count": 14,
   "metadata": {},
   "outputs": [
    {
     "data": {
      "text/plain": [
       "'La fecha incrementada un dia es: 09 / 09 / 1998.'"
      ]
     },
     "execution_count": 14,
     "metadata": {},
     "output_type": "execute_result"
    }
   ],
   "source": [
    "Fecha1.plusDay()"
   ]
  },
  {
   "cell_type": "code",
   "execution_count": 15,
   "metadata": {},
   "outputs": [
    {
     "data": {
      "text/plain": [
       "'La fecha incrementada un dia es: 06 / 12 / 2007.'"
      ]
     },
     "execution_count": 15,
     "metadata": {},
     "output_type": "execute_result"
    }
   ],
   "source": [
    "Fecha2.plusDay()"
   ]
  },
  {
   "cell_type": "code",
   "execution_count": 16,
   "metadata": {},
   "outputs": [
    {
     "data": {
      "text/plain": [
       "'La fecha decrementada un dia es: 07 / 09 / 1998.'"
      ]
     },
     "execution_count": 16,
     "metadata": {},
     "output_type": "execute_result"
    }
   ],
   "source": [
    "Fecha1.minusDay()"
   ]
  },
  {
   "cell_type": "code",
   "execution_count": 18,
   "metadata": {},
   "outputs": [],
   "source": [
    "Fecha4 = Date.toDate(\"5 Julio 2029\")"
   ]
  },
  {
   "cell_type": "code",
   "execution_count": 19,
   "metadata": {},
   "outputs": [
    {
     "name": "stdout",
     "output_type": "stream",
     "text": [
      "05 / 07 / 2029\n"
     ]
    }
   ],
   "source": [
    "print(Fecha4)"
   ]
  },
  {
   "cell_type": "code",
   "execution_count": null,
   "metadata": {},
   "outputs": [],
   "source": []
  }
 ],
 "metadata": {
  "kernelspec": {
   "display_name": "Python 3",
   "language": "python",
   "name": "python3"
  },
  "language_info": {
   "codemirror_mode": {
    "name": "ipython",
    "version": 3
   },
   "file_extension": ".py",
   "mimetype": "text/x-python",
   "name": "python",
   "nbconvert_exporter": "python",
   "pygments_lexer": "ipython3",
   "version": "3.8.3"
  }
 },
 "nbformat": 4,
 "nbformat_minor": 4
}
